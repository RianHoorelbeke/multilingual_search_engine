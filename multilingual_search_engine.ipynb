{
 "cells": [
  {
   "cell_type": "markdown",
   "metadata": {},
   "source": [
    "# Multilingual Search Engine"
   ]
  },
  {
   "cell_type": "markdown",
   "metadata": {},
   "source": [
    "### Imports"
   ]
  },
  {
   "cell_type": "code",
   "execution_count": 1,
   "metadata": {},
   "outputs": [],
   "source": [
    "# Data Manipulation\n",
    "import pandas as pd\n",
    "\n",
    "# Deep Learning Libraries\n",
    "import tensorflow_hub as hub\n",
    "import tensorflow as tf\n",
    "import tensorflow_text\n",
    "\n",
    "# NLP Libraries\n",
    "from flair.embeddings import BertEmbeddings, DocumentPoolEmbeddings\n",
    "from flair.data import Sentence\n",
    "\n",
    "from abc import ABCMeta, abstractmethod\n",
    "\n",
    "import faiss\n",
    "\n",
    "from tqdm import tqdm"
   ]
  },
  {
   "cell_type": "markdown",
   "metadata": {},
   "source": [
    "### Data Load"
   ]
  },
  {
   "cell_type": "markdown",
   "metadata": {},
   "source": [
    "Data must be downloaded from Kaggle competition: <br>\n",
    "https://www.kaggle.com/c/quora-question-pairs/data"
   ]
  },
  {
   "cell_type": "code",
   "execution_count": 2,
   "metadata": {},
   "outputs": [
    {
     "data": {
      "text/html": [
       "<div>\n",
       "<style scoped>\n",
       "    .dataframe tbody tr th:only-of-type {\n",
       "        vertical-align: middle;\n",
       "    }\n",
       "\n",
       "    .dataframe tbody tr th {\n",
       "        vertical-align: top;\n",
       "    }\n",
       "\n",
       "    .dataframe thead th {\n",
       "        text-align: right;\n",
       "    }\n",
       "</style>\n",
       "<table border=\"1\" class=\"dataframe\">\n",
       "  <thead>\n",
       "    <tr style=\"text-align: right;\">\n",
       "      <th></th>\n",
       "      <th>id</th>\n",
       "      <th>qid1</th>\n",
       "      <th>qid2</th>\n",
       "      <th>question1</th>\n",
       "      <th>question2</th>\n",
       "      <th>is_duplicate</th>\n",
       "    </tr>\n",
       "  </thead>\n",
       "  <tbody>\n",
       "    <tr>\n",
       "      <th>0</th>\n",
       "      <td>0</td>\n",
       "      <td>1</td>\n",
       "      <td>2</td>\n",
       "      <td>What is the step by step guide to invest in sh...</td>\n",
       "      <td>What is the step by step guide to invest in sh...</td>\n",
       "      <td>0</td>\n",
       "    </tr>\n",
       "    <tr>\n",
       "      <th>1</th>\n",
       "      <td>1</td>\n",
       "      <td>3</td>\n",
       "      <td>4</td>\n",
       "      <td>What is the story of Kohinoor (Koh-i-Noor) Dia...</td>\n",
       "      <td>What would happen if the Indian government sto...</td>\n",
       "      <td>0</td>\n",
       "    </tr>\n",
       "    <tr>\n",
       "      <th>2</th>\n",
       "      <td>2</td>\n",
       "      <td>5</td>\n",
       "      <td>6</td>\n",
       "      <td>How can I increase the speed of my internet co...</td>\n",
       "      <td>How can Internet speed be increased by hacking...</td>\n",
       "      <td>0</td>\n",
       "    </tr>\n",
       "    <tr>\n",
       "      <th>3</th>\n",
       "      <td>3</td>\n",
       "      <td>7</td>\n",
       "      <td>8</td>\n",
       "      <td>Why am I mentally very lonely? How can I solve...</td>\n",
       "      <td>Find the remainder when [math]23^{24}[/math] i...</td>\n",
       "      <td>0</td>\n",
       "    </tr>\n",
       "    <tr>\n",
       "      <th>4</th>\n",
       "      <td>4</td>\n",
       "      <td>9</td>\n",
       "      <td>10</td>\n",
       "      <td>Which one dissolve in water quikly sugar, salt...</td>\n",
       "      <td>Which fish would survive in salt water?</td>\n",
       "      <td>0</td>\n",
       "    </tr>\n",
       "  </tbody>\n",
       "</table>\n",
       "</div>"
      ],
      "text/plain": [
       "   id  qid1  qid2                                          question1  \\\n",
       "0   0     1     2  What is the step by step guide to invest in sh...   \n",
       "1   1     3     4  What is the story of Kohinoor (Koh-i-Noor) Dia...   \n",
       "2   2     5     6  How can I increase the speed of my internet co...   \n",
       "3   3     7     8  Why am I mentally very lonely? How can I solve...   \n",
       "4   4     9    10  Which one dissolve in water quikly sugar, salt...   \n",
       "\n",
       "                                           question2  is_duplicate  \n",
       "0  What is the step by step guide to invest in sh...             0  \n",
       "1  What would happen if the Indian government sto...             0  \n",
       "2  How can Internet speed be increased by hacking...             0  \n",
       "3  Find the remainder when [math]23^{24}[/math] i...             0  \n",
       "4            Which fish would survive in salt water?             0  "
      ]
     },
     "execution_count": 2,
     "metadata": {},
     "output_type": "execute_result"
    }
   ],
   "source": [
    "data = pd.read_csv('data/train.csv')\n",
    "data.head()"
   ]
  },
  {
   "cell_type": "code",
   "execution_count": 3,
   "metadata": {},
   "outputs": [],
   "source": [
    "# We remove missing values\n",
    "data.dropna(inplace=True)"
   ]
  },
  {
   "cell_type": "code",
   "execution_count": 5,
   "metadata": {},
   "outputs": [],
   "source": [
    "# Base Encoder\n",
    "class TFEncoder(metaclass=ABCMeta):\n",
    "    def __init__(self, model_path:str):\n",
    "        self.model = hub.load(model_path)\n",
    "    \n",
    "    # Encodes text\n",
    "    # The text should be a list of strings to encode\n",
    "    #@abstractmethod\n",
    "    #def encode(self, text:list):\n"
   ]
  },
  {
   "cell_type": "code",
   "execution_count": 6,
   "metadata": {},
   "outputs": [],
   "source": [
    "# Universal sentence encoder\n",
    "class USE(TFEncoder):\n",
    "    def __init__(self, model_path):\n",
    "        super().__init__(model_path)\n",
    "        \n",
    "    def encode(self, text):\n",
    "        return self.model(text).numpy()"
   ]
  },
  {
   "cell_type": "code",
   "execution_count": 7,
   "metadata": {},
   "outputs": [],
   "source": [
    "# Universal sentence encoder trained on Question Answer pairs\n",
    "class USEQA(TFEncoder):\n",
    "    def __init__(self, model_path):\n",
    "        super().__init__(model_path)\n",
    "        \n",
    "    def encode(self, text):\n",
    "        return self.model.signatures['question_encoder'](tf.constant(s))['outputs'].numpy()"
   ]
  },
  {
   "cell_type": "code",
   "execution_count": 8,
   "metadata": {},
   "outputs": [],
   "source": [
    "# BERT models\n",
    "class BERT():\n",
    "    def __init__(self, model_name, layers=\"-2\", pooling_operation=\"mean\"):\n",
    "        self.embeddings = BertEmbeddings(model_name, \n",
    "                                         layers=layers,\n",
    "                                         pooling_operation=pooling_operation)\n",
    "\n",
    "        self.document_embeddings = DocumentPoolEmbeddings([self.embeddings], fine_tune_mode='nonlinear')\n",
    "        \n",
    "    def encode(self, text):\n",
    "        sentence = Sentence(text)\n",
    "        self.document_embeddings.embed(sentence)\n",
    "        return sentence.embedding.detach().numpy().reshape(1, -1)"
   ]
  },
  {
   "cell_type": "code",
   "execution_count": 9,
   "metadata": {},
   "outputs": [
    {
     "name": "stderr",
     "output_type": "stream",
     "text": [
      "INFO:absl:Using /var/folders/0s/skg4xy3d4_z6br1c9rlxqpg00000gn/T/tfhub_modules to cache modules.\n",
      "INFO:absl:Downloading TF-Hub Module 'https://tfhub.dev/google/universal-sentence-encoder-multilingual-large/3'.\n",
      "INFO:absl:Downloading https://tfhub.dev/google/universal-sentence-encoder-multilingual-large/3: 90.03MB\n",
      "INFO:absl:Downloading https://tfhub.dev/google/universal-sentence-encoder-multilingual-large/3: 190.03MB\n",
      "INFO:absl:Downloading https://tfhub.dev/google/universal-sentence-encoder-multilingual-large/3: 290.03MB\n",
      "INFO:absl:Downloaded https://tfhub.dev/google/universal-sentence-encoder-multilingual-large/3, Total size: 334.32MB\n",
      "INFO:absl:Downloaded TF-Hub Module 'https://tfhub.dev/google/universal-sentence-encoder-multilingual-large/3'.\n"
     ]
    }
   ],
   "source": [
    "# model_path = 'https://tfhub.dev/google/universal-sentence-encoder-qa/3'\n",
    "# model_path = '../../models/universal-sentence-encoder-qa3/'\n",
    "\n",
    "# https://arxiv.org/pdf/1803.11175.pdf\n",
    "# model_path = '../../models/universal-sentence-encoder-large5/' #best for english\n",
    "\n",
    "model_path = \"https://tfhub.dev/google/universal-sentence-encoder-multilingual-large/3\"\n",
    "# model_path = '../../models/universal-sentence-encoder-multilingual-large3/'\n",
    "\n",
    "# encoder = BERT('bert-base-uncased')\n",
    "encoder = USE(model_path)"
   ]
  },
  {
   "cell_type": "code",
   "execution_count": 10,
   "metadata": {},
   "outputs": [
    {
     "data": {
      "text/plain": [
       "(1, 512)"
      ]
     },
     "execution_count": 10,
     "metadata": {},
     "output_type": "execute_result"
    }
   ],
   "source": [
    "encoder.encode(['hello']).shape"
   ]
  },
  {
   "cell_type": "code",
   "execution_count": 11,
   "metadata": {},
   "outputs": [
    {
     "data": {
      "text/plain": [
       "512"
      ]
     },
     "execution_count": 11,
     "metadata": {},
     "output_type": "execute_result"
    }
   ],
   "source": [
    "d = encoder.encode(['hello']).shape[-1]\n",
    "d"
   ]
  },
  {
   "cell_type": "markdown",
   "metadata": {},
   "source": [
    "#### Faiss Class"
   ]
  },
  {
   "cell_type": "code",
   "execution_count": 12,
   "metadata": {},
   "outputs": [],
   "source": [
    "class FAISS:\n",
    "    def __init__(self, dimensions:int):\n",
    "        self.dimensions = dimensions\n",
    "        self.index = faiss.IndexFlatL2(dimensions)\n",
    "        self.vectors = {}\n",
    "        self.counter = 0\n",
    "    \n",
    "    def add(self, text:str, v:list):\n",
    "        self.index.add(v)\n",
    "        self.vectors[self.counter] = (text, v)\n",
    "        self.counter += 1\n",
    "        \n",
    "    def search(self, v:list, k:int=10):\n",
    "        distance, item_index = self.index.search(v, k)\n",
    "        for dist, i in zip(distance[0], item_index[0]):\n",
    "            if i==-1:\n",
    "                break\n",
    "            else:\n",
    "                print(f'{self.vectors[i][0]}, %.2f'%dist)"
   ]
  },
  {
   "cell_type": "markdown",
   "metadata": {},
   "source": [
    "#### Vector Search Test"
   ]
  },
  {
   "cell_type": "code",
   "execution_count": 13,
   "metadata": {},
   "outputs": [
    {
     "name": "stdout",
     "output_type": "stream",
     "text": [
      "word,  distance\n",
      "hello, 0.07\n",
      "bye, 0.83\n"
     ]
    }
   ],
   "source": [
    "index = FAISS(d)\n",
    "\n",
    "# index word\n",
    "t1 = 'hello'\n",
    "v1 = encoder.encode([t1])\n",
    "index.add(t1, v1)\n",
    "\n",
    "# index word\n",
    "t1 = 'bye'\n",
    "v1 = encoder.encode([t1])\n",
    "index.add(t1, v1)\n",
    "\n",
    "# search similar word\n",
    "t1 = 'hi'\n",
    "v1 = encoder.encode([t1])\n",
    "print('word,  distance')\n",
    "index.search(v1)"
   ]
  },
  {
   "cell_type": "markdown",
   "metadata": {},
   "source": [
    "#### Generate Embeddings and Index all questions"
   ]
  },
  {
   "cell_type": "code",
   "execution_count": 15,
   "metadata": {},
   "outputs": [
    {
     "name": "stderr",
     "output_type": "stream",
     "text": [
      "  0%|          | 6/404287 [00:00<5:48:09, 19.35it/s]\n"
     ]
    }
   ],
   "source": [
    "index = FAISS(d)\n",
    "\n",
    "for q in tqdm(data):\n",
    "    emb = encoder.encode([q])\n",
    "    index.add(q, emb)"
   ]
  },
  {
   "cell_type": "code",
   "execution_count": 16,
   "metadata": {},
   "outputs": [],
   "source": [
    "def search(s, k=10):\n",
    "    emb = encoder.encode([s])\n",
    "    index.search(emb, k)"
   ]
  },
  {
   "cell_type": "markdown",
   "metadata": {},
   "source": [
    "#### Search Examples"
   ]
  },
  {
   "cell_type": "code",
   "execution_count": 17,
   "metadata": {},
   "outputs": [
    {
     "name": "stdout",
     "output_type": "stream",
     "text": [
      "is_duplicate, 1.76\n",
      "id, 1.80\n",
      "question2, 1.82\n",
      "question1, 1.83\n",
      "qid2, 1.93\n",
      "qid1, 1.95\n"
     ]
    }
   ],
   "source": [
    "search('how to lose weight?')"
   ]
  },
  {
   "cell_type": "code",
   "execution_count": 18,
   "metadata": {},
   "outputs": [
    {
     "name": "stdout",
     "output_type": "stream",
     "text": [
      "German\n",
      "is_duplicate, 1.84\n",
      "id, 1.89\n",
      "question2, 1.90\n",
      "question1, 1.90\n",
      "qid2, 1.96\n",
      "qid1, 1.97\n"
     ]
    }
   ],
   "source": [
    "print('German')\n",
    "search('wie man Gewicht verliert?')"
   ]
  },
  {
   "cell_type": "code",
   "execution_count": 19,
   "metadata": {},
   "outputs": [
    {
     "name": "stdout",
     "output_type": "stream",
     "text": [
      "Chinese\n",
      "id, 1.76\n",
      "is_duplicate, 1.76\n",
      "question2, 1.83\n",
      "question1, 1.85\n",
      "qid2, 1.92\n",
      "qid1, 1.92\n"
     ]
    }
   ],
   "source": [
    "print('Chinese')\n",
    "search('如何减肥?')"
   ]
  },
  {
   "cell_type": "code",
   "execution_count": 20,
   "metadata": {},
   "outputs": [
    {
     "name": "stdout",
     "output_type": "stream",
     "text": [
      "Japanese\n",
      "is_duplicate, 1.78\n",
      "id, 1.78\n",
      "question1, 1.89\n",
      "question2, 1.89\n",
      "qid1, 1.92\n",
      "qid2, 1.92\n"
     ]
    }
   ],
   "source": [
    "print('Japanese')\n",
    "search('体重を減らす方法は？')"
   ]
  },
  {
   "cell_type": "code",
   "execution_count": null,
   "metadata": {},
   "outputs": [],
   "source": []
  }
 ],
 "metadata": {
  "kernelspec": {
   "display_name": "Python 3",
   "language": "python",
   "name": "python3"
  },
  "language_info": {
   "codemirror_mode": {
    "name": "ipython",
    "version": 3
   },
   "file_extension": ".py",
   "mimetype": "text/x-python",
   "name": "python",
   "nbconvert_exporter": "python",
   "pygments_lexer": "ipython3",
   "version": "3.6.10"
  }
 },
 "nbformat": 4,
 "nbformat_minor": 2
}
